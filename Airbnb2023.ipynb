{
  "nbformat": 4,
  "nbformat_minor": 0,
  "metadata": {
    "colab": {
      "provenance": [],
      "authorship_tag": "ABX9TyO9FQrIDk/euMLj4dWS506M",
      "include_colab_link": true
    },
    "kernelspec": {
      "name": "python3",
      "display_name": "Python 3"
    },
    "language_info": {
      "name": "python"
    }
  },
  "cells": [
    {
      "cell_type": "markdown",
      "metadata": {
        "id": "view-in-github",
        "colab_type": "text"
      },
      "source": [
        "<a href=\"https://colab.research.google.com/github/Etnawu/Exploratory-Data-Analysis-List-of-World-Cities-by-Population-Density/blob/main/Airbnb2023.ipynb\" target=\"_parent\"><img src=\"https://colab.research.google.com/assets/colab-badge.svg\" alt=\"Open In Colab\"/></a>"
      ]
    },
    {
      "cell_type": "code",
      "execution_count": null,
      "metadata": {
        "id": "uH6kYAJOPJOa"
      },
      "outputs": [],
      "source": []
    },
    {
      "cell_type": "markdown",
      "source": [
        "# Data analysis of Airbnb data in Toronto"
      ],
      "metadata": {
        "id": "iVRsosHzPRkf"
      }
    },
    {
      "cell_type": "markdown",
      "source": [
        "\n",
        "Examination of dataset with detailed listings data.\n",
        "\n",
        "Data downloaded from: [insideairbnb.com](http://insideairbnb.com/get-the-data/)\n",
        "\n",
        "Data Dictionary: [Provided by Data provider](https://docs.google.com/spreadsheets/d/1iWCNJcSutYqpULSQHlNyGInUvHg2BoUGoNRIGa6Szc4/edit#gid=1322284596)\n",
        "\n",
        "Expected Update Frequency: Never\n",
        "\n",
        "License: [Creative Commons Attribution 4.0 International License](https://creativecommons.org/licenses/by/4.0/)"
      ],
      "metadata": {
        "id": "dGjBqU-ZPbxr"
      }
    },
    {
      "cell_type": "code",
      "source": [
        "!pip install pandas\n"
      ],
      "metadata": {
        "colab": {
          "base_uri": "https://localhost:8080/"
        },
        "id": "9hC3pvvLYMUb",
        "outputId": "24503c98-e1c9-48e7-ba3c-6dd6565e2848"
      },
      "execution_count": 1,
      "outputs": [
        {
          "output_type": "stream",
          "name": "stdout",
          "text": [
            "Requirement already satisfied: pandas in /usr/local/lib/python3.10/dist-packages (1.5.3)\n",
            "Requirement already satisfied: python-dateutil>=2.8.1 in /usr/local/lib/python3.10/dist-packages (from pandas) (2.8.2)\n",
            "Requirement already satisfied: pytz>=2020.1 in /usr/local/lib/python3.10/dist-packages (from pandas) (2023.4)\n",
            "Requirement already satisfied: numpy>=1.21.0 in /usr/local/lib/python3.10/dist-packages (from pandas) (1.25.2)\n",
            "Requirement already satisfied: six>=1.5 in /usr/local/lib/python3.10/dist-packages (from python-dateutil>=2.8.1->pandas) (1.16.0)\n"
          ]
        }
      ]
    },
    {
      "cell_type": "code",
      "source": [
        "import pandas as pd"
      ],
      "metadata": {
        "id": "lcHpOOiKZcwV"
      },
      "execution_count": 2,
      "outputs": []
    }
  ]
}