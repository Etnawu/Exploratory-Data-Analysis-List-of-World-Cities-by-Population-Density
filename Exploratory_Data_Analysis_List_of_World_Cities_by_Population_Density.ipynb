{
  "nbformat": 4,
  "nbformat_minor": 0,
  "metadata": {
    "colab": {
      "provenance": [],
      "toc_visible": true,
      "authorship_tag": "ABX9TyPPzAp7j03ERf4deWL/yQhE",
      "include_colab_link": true
    },
    "kernelspec": {
      "name": "python3",
      "display_name": "Python 3"
    },
    "language_info": {
      "name": "python"
    }
  },
  "cells": [
    {
      "cell_type": "markdown",
      "metadata": {
        "id": "view-in-github",
        "colab_type": "text"
      },
      "source": [
        "<a href=\"https://colab.research.google.com/github/Etnawu/Exploratory-Data-Analysis-List-of-World-Cities-by-Population-Density/blob/main/Exploratory_Data_Analysis_List_of_World_Cities_by_Population_Density.ipynb\" target=\"_parent\"><img src=\"https://colab.research.google.com/assets/colab-badge.svg\" alt=\"Open In Colab\"/></a>"
      ]
    },
    {
      "cell_type": "markdown",
      "source": [
        "##Exploratory Data Analysis: List of World Cities by Population Density\n",
        ">List of Metropolitan Areas by Population Density Top 50 Cities \n",
        "\n",
        "This is a list of cities worldwide by population density. The population, population density and land area for the cities listed are based on the entire city proper, the defined boundary or border of a city or the city limits of the city. The population density of the cities listed is based on the average number of people living per square kilometer or per square mile. This list does not refer to the population, population density or land area of the greater metropolitan area or urban area, nor particular districts in any of the cities listed."
      ],
      "metadata": {
        "id": "1_RLGsYY4I3T"
      }
    },
    {
      "cell_type": "markdown",
      "source": [
        "License: CC0: Public Domain\n",
        "\n",
        "Expected update frequency for dataset: :Annually (notebook will not be updated)\n",
        "\n",
        "Kaggle: https://www.kaggle.com/datasets/rajkumarpandey02/list-of-world-cities-by-population-density"
      ],
      "metadata": {
        "id": "KaTnSKb94qV4"
      }
    },
    {
      "cell_type": "markdown",
      "source": [
        "##Importing dataset from kaggle"
      ],
      "metadata": {
        "id": "03ETROyc60Mt"
      }
    },
    {
      "cell_type": "code",
      "execution_count": null,
      "metadata": {
        "id": "zFo6Q-1e3Lj7"
      },
      "outputs": [],
      "source": [
        "!pip install pandas"
      ]
    },
    {
      "cell_type": "code",
      "source": [
        "import pandas as pd"
      ],
      "metadata": {
        "id": "GciGeyV13qdZ"
      },
      "execution_count": null,
      "outputs": []
    },
    {
      "cell_type": "code",
      "source": [
        "df = pd.read_csv (\"/content/world_cities_by_population density.csv\")"
      ],
      "metadata": {
        "id": "ysX5wZCn9zzR"
      },
      "execution_count": null,
      "outputs": []
    },
    {
      "cell_type": "code",
      "source": [
        "df.head()"
      ],
      "metadata": {
        "colab": {
          "base_uri": "https://localhost:8080/",
          "height": 206
        },
        "id": "awQaMFy99zvU",
        "outputId": "04de2fc8-a261-4f49-fd82-1c8fdd7ead77"
      },
      "execution_count": null,
      "outputs": [
        {
          "output_type": "execute_result",
          "data": {
            "text/plain": [
              "   Unnamed: 0       City    Population Area (km²) Area (mi²)  Density (/km²)  \\\n",
              "0           0       Malé    153,904[1]   1.956[1]      0.755           78683   \n",
              "1           1     Manila  1,660,714[2]   38.55[3]      14.88           43079   \n",
              "2           2      Bogor    866,034[4]   21.56[5]       8.32           40169   \n",
              "3           3   Titagarh    124,213[6]    3.24[7]       1.25           38337   \n",
              "4           4  Baranagar    250,768[6]    7.12[7]       2.75           35220   \n",
              "\n",
              "   Density (/mi²)      Country  \n",
              "0        203846.0     Maldives  \n",
              "1        111576.0  Philippines  \n",
              "2        104037.0    Indonesia  \n",
              "3         99293.0        India  \n",
              "4         91220.0        India  "
            ],
            "text/html": [
              "\n",
              "  <div id=\"df-87e1831e-a48a-4299-950a-71001593b3df\">\n",
              "    <div class=\"colab-df-container\">\n",
              "      <div>\n",
              "<style scoped>\n",
              "    .dataframe tbody tr th:only-of-type {\n",
              "        vertical-align: middle;\n",
              "    }\n",
              "\n",
              "    .dataframe tbody tr th {\n",
              "        vertical-align: top;\n",
              "    }\n",
              "\n",
              "    .dataframe thead th {\n",
              "        text-align: right;\n",
              "    }\n",
              "</style>\n",
              "<table border=\"1\" class=\"dataframe\">\n",
              "  <thead>\n",
              "    <tr style=\"text-align: right;\">\n",
              "      <th></th>\n",
              "      <th>Unnamed: 0</th>\n",
              "      <th>City</th>\n",
              "      <th>Population</th>\n",
              "      <th>Area (km²)</th>\n",
              "      <th>Area (mi²)</th>\n",
              "      <th>Density (/km²)</th>\n",
              "      <th>Density (/mi²)</th>\n",
              "      <th>Country</th>\n",
              "    </tr>\n",
              "  </thead>\n",
              "  <tbody>\n",
              "    <tr>\n",
              "      <th>0</th>\n",
              "      <td>0</td>\n",
              "      <td>Malé</td>\n",
              "      <td>153,904[1]</td>\n",
              "      <td>1.956[1]</td>\n",
              "      <td>0.755</td>\n",
              "      <td>78683</td>\n",
              "      <td>203846.0</td>\n",
              "      <td>Maldives</td>\n",
              "    </tr>\n",
              "    <tr>\n",
              "      <th>1</th>\n",
              "      <td>1</td>\n",
              "      <td>Manila</td>\n",
              "      <td>1,660,714[2]</td>\n",
              "      <td>38.55[3]</td>\n",
              "      <td>14.88</td>\n",
              "      <td>43079</td>\n",
              "      <td>111576.0</td>\n",
              "      <td>Philippines</td>\n",
              "    </tr>\n",
              "    <tr>\n",
              "      <th>2</th>\n",
              "      <td>2</td>\n",
              "      <td>Bogor</td>\n",
              "      <td>866,034[4]</td>\n",
              "      <td>21.56[5]</td>\n",
              "      <td>8.32</td>\n",
              "      <td>40169</td>\n",
              "      <td>104037.0</td>\n",
              "      <td>Indonesia</td>\n",
              "    </tr>\n",
              "    <tr>\n",
              "      <th>3</th>\n",
              "      <td>3</td>\n",
              "      <td>Titagarh</td>\n",
              "      <td>124,213[6]</td>\n",
              "      <td>3.24[7]</td>\n",
              "      <td>1.25</td>\n",
              "      <td>38337</td>\n",
              "      <td>99293.0</td>\n",
              "      <td>India</td>\n",
              "    </tr>\n",
              "    <tr>\n",
              "      <th>4</th>\n",
              "      <td>4</td>\n",
              "      <td>Baranagar</td>\n",
              "      <td>250,768[6]</td>\n",
              "      <td>7.12[7]</td>\n",
              "      <td>2.75</td>\n",
              "      <td>35220</td>\n",
              "      <td>91220.0</td>\n",
              "      <td>India</td>\n",
              "    </tr>\n",
              "  </tbody>\n",
              "</table>\n",
              "</div>\n",
              "      <button class=\"colab-df-convert\" onclick=\"convertToInteractive('df-87e1831e-a48a-4299-950a-71001593b3df')\"\n",
              "              title=\"Convert this dataframe to an interactive table.\"\n",
              "              style=\"display:none;\">\n",
              "        \n",
              "  <svg xmlns=\"http://www.w3.org/2000/svg\" height=\"24px\"viewBox=\"0 0 24 24\"\n",
              "       width=\"24px\">\n",
              "    <path d=\"M0 0h24v24H0V0z\" fill=\"none\"/>\n",
              "    <path d=\"M18.56 5.44l.94 2.06.94-2.06 2.06-.94-2.06-.94-.94-2.06-.94 2.06-2.06.94zm-11 1L8.5 8.5l.94-2.06 2.06-.94-2.06-.94L8.5 2.5l-.94 2.06-2.06.94zm10 10l.94 2.06.94-2.06 2.06-.94-2.06-.94-.94-2.06-.94 2.06-2.06.94z\"/><path d=\"M17.41 7.96l-1.37-1.37c-.4-.4-.92-.59-1.43-.59-.52 0-1.04.2-1.43.59L10.3 9.45l-7.72 7.72c-.78.78-.78 2.05 0 2.83L4 21.41c.39.39.9.59 1.41.59.51 0 1.02-.2 1.41-.59l7.78-7.78 2.81-2.81c.8-.78.8-2.07 0-2.86zM5.41 20L4 18.59l7.72-7.72 1.47 1.35L5.41 20z\"/>\n",
              "  </svg>\n",
              "      </button>\n",
              "      \n",
              "  <style>\n",
              "    .colab-df-container {\n",
              "      display:flex;\n",
              "      flex-wrap:wrap;\n",
              "      gap: 12px;\n",
              "    }\n",
              "\n",
              "    .colab-df-convert {\n",
              "      background-color: #E8F0FE;\n",
              "      border: none;\n",
              "      border-radius: 50%;\n",
              "      cursor: pointer;\n",
              "      display: none;\n",
              "      fill: #1967D2;\n",
              "      height: 32px;\n",
              "      padding: 0 0 0 0;\n",
              "      width: 32px;\n",
              "    }\n",
              "\n",
              "    .colab-df-convert:hover {\n",
              "      background-color: #E2EBFA;\n",
              "      box-shadow: 0px 1px 2px rgba(60, 64, 67, 0.3), 0px 1px 3px 1px rgba(60, 64, 67, 0.15);\n",
              "      fill: #174EA6;\n",
              "    }\n",
              "\n",
              "    [theme=dark] .colab-df-convert {\n",
              "      background-color: #3B4455;\n",
              "      fill: #D2E3FC;\n",
              "    }\n",
              "\n",
              "    [theme=dark] .colab-df-convert:hover {\n",
              "      background-color: #434B5C;\n",
              "      box-shadow: 0px 1px 3px 1px rgba(0, 0, 0, 0.15);\n",
              "      filter: drop-shadow(0px 1px 2px rgba(0, 0, 0, 0.3));\n",
              "      fill: #FFFFFF;\n",
              "    }\n",
              "  </style>\n",
              "\n",
              "      <script>\n",
              "        const buttonEl =\n",
              "          document.querySelector('#df-87e1831e-a48a-4299-950a-71001593b3df button.colab-df-convert');\n",
              "        buttonEl.style.display =\n",
              "          google.colab.kernel.accessAllowed ? 'block' : 'none';\n",
              "\n",
              "        async function convertToInteractive(key) {\n",
              "          const element = document.querySelector('#df-87e1831e-a48a-4299-950a-71001593b3df');\n",
              "          const dataTable =\n",
              "            await google.colab.kernel.invokeFunction('convertToInteractive',\n",
              "                                                     [key], {});\n",
              "          if (!dataTable) return;\n",
              "\n",
              "          const docLinkHtml = 'Like what you see? Visit the ' +\n",
              "            '<a target=\"_blank\" href=https://colab.research.google.com/notebooks/data_table.ipynb>data table notebook</a>'\n",
              "            + ' to learn more about interactive tables.';\n",
              "          element.innerHTML = '';\n",
              "          dataTable['output_type'] = 'display_data';\n",
              "          await google.colab.output.renderOutput(dataTable, element);\n",
              "          const docLink = document.createElement('div');\n",
              "          docLink.innerHTML = docLinkHtml;\n",
              "          element.appendChild(docLink);\n",
              "        }\n",
              "      </script>\n",
              "    </div>\n",
              "  </div>\n",
              "  "
            ]
          },
          "metadata": {},
          "execution_count": 4
        }
      ]
    },
    {
      "cell_type": "markdown",
      "source": [
        "##Data Cleaning"
      ],
      "metadata": {
        "id": "WD-Cezjm_FSr"
      }
    },
    {
      "cell_type": "code",
      "source": [
        "df.info()"
      ],
      "metadata": {
        "colab": {
          "base_uri": "https://localhost:8080/"
        },
        "id": "oBnDlT-3BAci",
        "outputId": "6b36bb7d-c9c3-4d0e-ad26-41291b9fb285"
      },
      "execution_count": null,
      "outputs": [
        {
          "output_type": "stream",
          "name": "stdout",
          "text": [
            "<class 'pandas.core.frame.DataFrame'>\n",
            "RangeIndex: 50 entries, 0 to 49\n",
            "Data columns (total 8 columns):\n",
            " #   Column          Non-Null Count  Dtype  \n",
            "---  ------          --------------  -----  \n",
            " 0   Unnamed: 0      50 non-null     int64  \n",
            " 1   City            50 non-null     object \n",
            " 2   Population      50 non-null     object \n",
            " 3   Area (km²)      50 non-null     object \n",
            " 4   Area (mi²)      50 non-null     object \n",
            " 5   Density (/km²)  50 non-null     int64  \n",
            " 6   Density (/mi²)  50 non-null     float64\n",
            " 7   Country         50 non-null     object \n",
            "dtypes: float64(1), int64(2), object(5)\n",
            "memory usage: 3.2+ KB\n"
          ]
        }
      ]
    },
    {
      "cell_type": "code",
      "source": [
        "missing_percentages = df.isna().sum().sort_values(ascending=False) / len(df)"
      ],
      "metadata": {
        "id": "2XAHHjY1CJ-N"
      },
      "execution_count": null,
      "outputs": []
    },
    {
      "cell_type": "code",
      "source": [
        "missing_percentages"
      ],
      "metadata": {
        "colab": {
          "base_uri": "https://localhost:8080/"
        },
        "id": "NGMHepMCEVin",
        "outputId": "153b40b8-63ee-4169-f404-dd9514899366"
      },
      "execution_count": null,
      "outputs": [
        {
          "output_type": "execute_result",
          "data": {
            "text/plain": [
              "Unnamed: 0        0.0\n",
              "City              0.0\n",
              "Population        0.0\n",
              "Area (km²)        0.0\n",
              "Area (mi²)        0.0\n",
              "Density (/km²)    0.0\n",
              "Density (/mi²)    0.0\n",
              "Country           0.0\n",
              "dtype: float64"
            ]
          },
          "metadata": {},
          "execution_count": 11
        }
      ]
    },
    {
      "cell_type": "code",
      "source": [
        "df_trimmed = df.drop(columns=['Unnamed: 0'], inplace=False)"
      ],
      "metadata": {
        "id": "rPuX5zTFFKXE"
      },
      "execution_count": null,
      "outputs": []
    },
    {
      "cell_type": "code",
      "source": [
        "df_trimmed.info()"
      ],
      "metadata": {
        "id": "9XU9QOhNGGaf",
        "colab": {
          "base_uri": "https://localhost:8080/"
        },
        "outputId": "2e64327d-10b7-4795-8e39-5e65519d6b63"
      },
      "execution_count": null,
      "outputs": [
        {
          "output_type": "stream",
          "name": "stdout",
          "text": [
            "<class 'pandas.core.frame.DataFrame'>\n",
            "RangeIndex: 50 entries, 0 to 49\n",
            "Data columns (total 7 columns):\n",
            " #   Column          Non-Null Count  Dtype  \n",
            "---  ------          --------------  -----  \n",
            " 0   City            50 non-null     object \n",
            " 1   Population      50 non-null     object \n",
            " 2   Area (km²)      50 non-null     object \n",
            " 3   Area (mi²)      50 non-null     object \n",
            " 4   Density (/km²)  50 non-null     int64  \n",
            " 5   Density (/mi²)  50 non-null     float64\n",
            " 6   Country         50 non-null     object \n",
            "dtypes: float64(1), int64(1), object(5)\n",
            "memory usage: 2.9+ KB\n"
          ]
        }
      ]
    },
    {
      "cell_type": "code",
      "source": [
        "df_original = df  "
      ],
      "metadata": {
        "id": "u9Sej0utGlt8"
      },
      "execution_count": null,
      "outputs": []
    },
    {
      "cell_type": "code",
      "source": [
        "del df\n",
        "df = df_trimmed\n",
        "del df_trimmed"
      ],
      "metadata": {
        "id": "fnx-mgmaGz2f"
      },
      "execution_count": null,
      "outputs": []
    },
    {
      "cell_type": "code",
      "source": [
        "df.drop(columns = ['Density (/mi²)','Area (mi²)'],inplace=True)"
      ],
      "metadata": {
        "id": "iVaPL515I0s-"
      },
      "execution_count": null,
      "outputs": []
    },
    {
      "cell_type": "code",
      "source": [
        "df['Population'] = df['Population'].str.split('[').str.get(0)"
      ],
      "metadata": {
        "id": "b17Ke2MjPD6x"
      },
      "execution_count": null,
      "outputs": []
    },
    {
      "cell_type": "code",
      "source": [
        "df['Area (km²)'] = df['Area (km²)'].str.split('[').str.get(0)"
      ],
      "metadata": {
        "id": "IP11KMHIQkzW"
      },
      "execution_count": null,
      "outputs": []
    },
    {
      "cell_type": "code",
      "source": [
        "df['Population'] = df['Population'].str.replace(',', '')\n",
        "df['Population'] = pd.to_numeric(df['Population'])"
      ],
      "metadata": {
        "id": "dKsTl3_wRMCg"
      },
      "execution_count": null,
      "outputs": []
    },
    {
      "cell_type": "code",
      "source": [
        "df['Area (km²)'] = pd.to_numeric(df['Area (km²)'])"
      ],
      "metadata": {
        "id": "nU7Mn1jDSWcb"
      },
      "execution_count": null,
      "outputs": []
    },
    {
      "cell_type": "markdown",
      "source": [
        "\n",
        "\n",
        "###Cleaning Log\n",
        "- Dropped columns \"Unnamed: 0\", \"Density (/mi²)\", \"Area (mi²)\" as not needed in analysis\n",
        "- Retained original dataset for clarity\n",
        "- Changed variable name from df > df_original\n",
        "- Changed variable name from df_trimmed > df\n",
        "- Dataset contains no missing values, concluding data cleaning process\n",
        "- Removed brackets from value from columns \"Population\" and \"Area (km²)\" (For example 153,904[1] ---> 153,904)\n",
        "- Removed commas from Population column\n",
        "- Changed \"Population\", \"Area (km²)\" datatypes to numeric"
      ],
      "metadata": {
        "id": "lkJY3rG4GGJs"
      }
    },
    {
      "cell_type": "markdown",
      "source": [
        "### Columns to analyze\n",
        "- City\n",
        "- Population\n",
        "- Area (km²)\n",
        "- Density (km²)\n",
        "- Country"
      ],
      "metadata": {
        "id": "AmTnQhdhIJFg"
      }
    },
    {
      "cell_type": "markdown",
      "source": [
        "##Analyse and Visualize"
      ],
      "metadata": {
        "id": "0ES9O4bLEqaA"
      }
    },
    {
      "cell_type": "code",
      "source": [
        "!pip install seaborn"
      ],
      "metadata": {
        "id": "B9e2AhnK2WAU",
        "colab": {
          "base_uri": "https://localhost:8080/"
        },
        "outputId": "5e85d65a-6625-482b-fa63-828f5d5e28ba"
      },
      "execution_count": null,
      "outputs": [
        {
          "output_type": "stream",
          "name": "stdout",
          "text": [
            "Looking in indexes: https://pypi.org/simple, https://us-python.pkg.dev/colab-wheels/public/simple/\n",
            "Requirement already satisfied: seaborn in /usr/local/lib/python3.9/dist-packages (0.12.2)\n",
            "Requirement already satisfied: matplotlib!=3.6.1,>=3.1 in /usr/local/lib/python3.9/dist-packages (from seaborn) (3.7.1)\n",
            "Requirement already satisfied: numpy!=1.24.0,>=1.17 in /usr/local/lib/python3.9/dist-packages (from seaborn) (1.22.4)\n",
            "Requirement already satisfied: pandas>=0.25 in /usr/local/lib/python3.9/dist-packages (from seaborn) (1.5.3)\n",
            "Requirement already satisfied: pillow>=6.2.0 in /usr/local/lib/python3.9/dist-packages (from matplotlib!=3.6.1,>=3.1->seaborn) (8.4.0)\n",
            "Requirement already satisfied: contourpy>=1.0.1 in /usr/local/lib/python3.9/dist-packages (from matplotlib!=3.6.1,>=3.1->seaborn) (1.0.7)\n",
            "Requirement already satisfied: fonttools>=4.22.0 in /usr/local/lib/python3.9/dist-packages (from matplotlib!=3.6.1,>=3.1->seaborn) (4.39.3)\n",
            "Requirement already satisfied: importlib-resources>=3.2.0 in /usr/local/lib/python3.9/dist-packages (from matplotlib!=3.6.1,>=3.1->seaborn) (5.12.0)\n",
            "Requirement already satisfied: packaging>=20.0 in /usr/local/lib/python3.9/dist-packages (from matplotlib!=3.6.1,>=3.1->seaborn) (23.0)\n",
            "Requirement already satisfied: kiwisolver>=1.0.1 in /usr/local/lib/python3.9/dist-packages (from matplotlib!=3.6.1,>=3.1->seaborn) (1.4.4)\n",
            "Requirement already satisfied: cycler>=0.10 in /usr/local/lib/python3.9/dist-packages (from matplotlib!=3.6.1,>=3.1->seaborn) (0.11.0)\n",
            "Requirement already satisfied: pyparsing>=2.3.1 in /usr/local/lib/python3.9/dist-packages (from matplotlib!=3.6.1,>=3.1->seaborn) (3.0.9)\n",
            "Requirement already satisfied: python-dateutil>=2.7 in /usr/local/lib/python3.9/dist-packages (from matplotlib!=3.6.1,>=3.1->seaborn) (2.8.2)\n",
            "Requirement already satisfied: pytz>=2020.1 in /usr/local/lib/python3.9/dist-packages (from pandas>=0.25->seaborn) (2022.7.1)\n",
            "Requirement already satisfied: zipp>=3.1.0 in /usr/local/lib/python3.9/dist-packages (from importlib-resources>=3.2.0->matplotlib!=3.6.1,>=3.1->seaborn) (3.15.0)\n",
            "Requirement already satisfied: six>=1.5 in /usr/local/lib/python3.9/dist-packages (from python-dateutil>=2.7->matplotlib!=3.6.1,>=3.1->seaborn) (1.16.0)\n"
          ]
        }
      ]
    },
    {
      "cell_type": "code",
      "source": [
        "import seaborn as sns"
      ],
      "metadata": {
        "id": "o9hDGUsT28jN"
      },
      "execution_count": null,
      "outputs": []
    },
    {
      "cell_type": "code",
      "source": [
        "import matplotlib.pyplot as plt\n",
        "import matplotlib.ticker as mtick\n"
      ],
      "metadata": {
        "id": "2BxKo1dnVqXw"
      },
      "execution_count": null,
      "outputs": []
    },
    {
      "cell_type": "code",
      "source": [
        "Top5PopulationByCitybargraph = sns.barplot(x='City', y='Population', data=df.sort_values(by='Population', ascending=False).nlargest(5, 'Population'))\n",
        "Top5PopulationByCitybargraph.yaxis.set_major_formatter(mtick.FormatStrFormatter('%.0f'))\n",
        "plt.title('Top 5 Population by City')"
      ],
      "metadata": {
        "colab": {
          "base_uri": "https://localhost:8080/",
          "height": 489
        },
        "id": "RDZPrZ8eK_6r",
        "outputId": "b789dc43-c449-44dc-95ca-bdf83140b9ae"
      },
      "execution_count": null,
      "outputs": [
        {
          "output_type": "execute_result",
          "data": {
            "text/plain": [
              "Text(0.5, 1.0, 'Top 5 Population by City')"
            ]
          },
          "metadata": {},
          "execution_count": 29
        },
        {
          "output_type": "display_data",
          "data": {
            "text/plain": [
              "<Figure size 640x480 with 1 Axes>"
            ],
            "image/png": "[encoded data removed]"
          },
          "metadata": {}
        }
      ]
    },
    {
      "cell_type": "code",
      "source": [
        "top_5_cities_by_population = df.sort_values(by='Population', ascending=False).nlargest(5, 'Population')\n",
        "top_5_cities_by_population.loc[:, ['City', 'Population']]"
      ],
      "metadata": {
        "colab": {
          "base_uri": "https://localhost:8080/",
          "height": 206
        },
        "id": "aiKSTcfBXRY5",
        "outputId": "bf8066d8-591f-418f-c05e-e2f09f438cb7"
      },
      "execution_count": null,
      "outputs": [
        {
          "output_type": "execute_result",
          "data": {
            "text/plain": [
              "       City  Population\n",
              "13  Karachi    23000000\n",
              "20   Mumbai    13830884\n",
              "46    Seoul    10464051\n",
              "30   Bogota     7862677\n",
              "34    Dhaka     7000940"
            ],
            "text/html": [
              "\n",
              "  <div id=\"df-1a8a9ba9-701d-4f16-9699-2344e3f30ae9\">\n",
              "    <div class=\"colab-df-container\">\n",
              "      <div>\n",
              "<style scoped>\n",
              "    .dataframe tbody tr th:only-of-type {\n",
              "        vertical-align: middle;\n",
              "    }\n",
              "\n",
              "    .dataframe tbody tr th {\n",
              "        vertical-align: top;\n",
              "    }\n",
              "\n",
              "    .dataframe thead th {\n",
              "        text-align: right;\n",
              "    }\n",
              "</style>\n",
              "<table border=\"1\" class=\"dataframe\">\n",
              "  <thead>\n",
              "    <tr style=\"text-align: right;\">\n",
              "      <th></th>\n",
              "      <th>City</th>\n",
              "      <th>Population</th>\n",
              "    </tr>\n",
              "  </thead>\n",
              "  <tbody>\n",
              "    <tr>\n",
              "      <th>13</th>\n",
              "      <td>Karachi</td>\n",
              "      <td>23000000</td>\n",
              "    </tr>\n",
              "    <tr>\n",
              "      <th>20</th>\n",
              "      <td>Mumbai</td>\n",
              "      <td>13830884</td>\n",
              "    </tr>\n",
              "    <tr>\n",
              "      <th>46</th>\n",
              "      <td>Seoul</td>\n",
              "      <td>10464051</td>\n",
              "    </tr>\n",
              "    <tr>\n",
              "      <th>30</th>\n",
              "      <td>Bogota</td>\n",
              "      <td>7862677</td>\n",
              "    </tr>\n",
              "    <tr>\n",
              "      <th>34</th>\n",
              "      <td>Dhaka</td>\n",
              "      <td>7000940</td>\n",
              "    </tr>\n",
              "  </tbody>\n",
              "</table>\n",
              "</div>\n",
              "      <button class=\"colab-df-convert\" onclick=\"convertToInteractive('df-1a8a9ba9-701d-4f16-9699-2344e3f30ae9')\"\n",
              "              title=\"Convert this dataframe to an interactive table.\"\n",
              "              style=\"display:none;\">\n",
              "        \n",
              "  <svg xmlns=\"http://www.w3.org/2000/svg\" height=\"24px\"viewBox=\"0 0 24 24\"\n",
              "       width=\"24px\">\n",
              "    <path d=\"M0 0h24v24H0V0z\" fill=\"none\"/>\n",
              "    <path d=\"M18.56 5.44l.94 2.06.94-2.06 2.06-.94-2.06-.94-.94-2.06-.94 2.06-2.06.94zm-11 1L8.5 8.5l.94-2.06 2.06-.94-2.06-.94L8.5 2.5l-.94 2.06-2.06.94zm10 10l.94 2.06.94-2.06 2.06-.94-2.06-.94-.94-2.06-.94 2.06-2.06.94z\"/><path d=\"M17.41 7.96l-1.37-1.37c-.4-.4-.92-.59-1.43-.59-.52 0-1.04.2-1.43.59L10.3 9.45l-7.72 7.72c-.78.78-.78 2.05 0 2.83L4 21.41c.39.39.9.59 1.41.59.51 0 1.02-.2 1.41-.59l7.78-7.78 2.81-2.81c.8-.78.8-2.07 0-2.86zM5.41 20L4 18.59l7.72-7.72 1.47 1.35L5.41 20z\"/>\n",
              "  </svg>\n",
              "      </button>\n",
              "      \n",
              "  <style>\n",
              "    .colab-df-container {\n",
              "      display:flex;\n",
              "      flex-wrap:wrap;\n",
              "      gap: 12px;\n",
              "    }\n",
              "\n",
              "    .colab-df-convert {\n",
              "      background-color: #E8F0FE;\n",
              "      border: none;\n",
              "      border-radius: 50%;\n",
              "      cursor: pointer;\n",
              "      display: none;\n",
              "      fill: #1967D2;\n",
              "      height: 32px;\n",
              "      padding: 0 0 0 0;\n",
              "      width: 32px;\n",
              "    }\n",
              "\n",
              "    .colab-df-convert:hover {\n",
              "      background-color: #E2EBFA;\n",
              "      box-shadow: 0px 1px 2px rgba(60, 64, 67, 0.3), 0px 1px 3px 1px rgba(60, 64, 67, 0.15);\n",
              "      fill: #174EA6;\n",
              "    }\n",
              "\n",
              "    [theme=dark] .colab-df-convert {\n",
              "      background-color: #3B4455;\n",
              "      fill: #D2E3FC;\n",
              "    }\n",
              "\n",
              "    [theme=dark] .colab-df-convert:hover {\n",
              "      background-color: #434B5C;\n",
              "      box-shadow: 0px 1px 3px 1px rgba(0, 0, 0, 0.15);\n",
              "      filter: drop-shadow(0px 1px 2px rgba(0, 0, 0, 0.3));\n",
              "      fill: #FFFFFF;\n",
              "    }\n",
              "  </style>\n",
              "\n",
              "      <script>\n",
              "        const buttonEl =\n",
              "          document.querySelector('#df-1a8a9ba9-701d-4f16-9699-2344e3f30ae9 button.colab-df-convert');\n",
              "        buttonEl.style.display =\n",
              "          google.colab.kernel.accessAllowed ? 'block' : 'none';\n",
              "\n",
              "        async function convertToInteractive(key) {\n",
              "          const element = document.querySelector('#df-1a8a9ba9-701d-4f16-9699-2344e3f30ae9');\n",
              "          const dataTable =\n",
              "            await google.colab.kernel.invokeFunction('convertToInteractive',\n",
              "                                                     [key], {});\n",
              "          if (!dataTable) return;\n",
              "\n",
              "          const docLinkHtml = 'Like what you see? Visit the ' +\n",
              "            '<a target=\"_blank\" href=https://colab.research.google.com/notebooks/data_table.ipynb>data table notebook</a>'\n",
              "            + ' to learn more about interactive tables.';\n",
              "          element.innerHTML = '';\n",
              "          dataTable['output_type'] = 'display_data';\n",
              "          await google.colab.output.renderOutput(dataTable, element);\n",
              "          const docLink = document.createElement('div');\n",
              "          docLink.innerHTML = docLinkHtml;\n",
              "          element.appendChild(docLink);\n",
              "        }\n",
              "      </script>\n",
              "    </div>\n",
              "  </div>\n",
              "  "
            ]
          },
          "metadata": {},
          "execution_count": 30
        }
      ]
    },
    {
      "cell_type": "markdown",
      "source": [
        "Above are the top 5 most populous cities within the dataset.\n",
        "\n",
        "It is worth noting that the dataset does not contain cities from Japan or China which is known to have a high population."
      ],
      "metadata": {
        "id": "ZP-u7FvSVGYs"
      }
    },
    {
      "cell_type": "code",
      "source": [
        "country_by_population = df.groupby('Country').Population.sum().sort_values(ascending=False).reset_index()\n",
        "graph_country_by_population = sns.barplot(x='Population', y='Country', data=country_by_population, orient='h')\n",
        "graph_country_by_population.xaxis.set_major_formatter('{:,}'.format)\n",
        "graph_country_by_population.figure.set_size_inches(12, 8)"
      ],
      "metadata": {
        "colab": {
          "base_uri": "https://localhost:8080/",
          "height": 696
        },
        "id": "1G0YYsdapVgj",
        "outputId": "22a19983-f3be-4471-d310-77e3ab5e4136"
      },
      "execution_count": 46,
      "outputs": [
        {
          "output_type": "display_data",
          "data": {
            "text/plain": [
              "<Figure size 1200x800 with 1 Axes>"
            ],
            "image/png": "[encoded data removed]"
          },
          "metadata": {}
        }
      ]
    },
    {
      "cell_type": "code",
      "source": [
        "US_rows = df[df[\"Country\"] == \"United States\"]\n",
        "print (US_rows)"
      ],
      "metadata": {
        "colab": {
          "base_uri": "https://localhost:8080/"
        },
        "id": "lhucdKPnuvFs",
        "outputId": "f7bd7046-655f-4968-87a3-4496e4ce9775"
      },
      "execution_count": 50,
      "outputs": [
        {
          "output_type": "stream",
          "name": "stdout",
          "text": [
            "          City  Population  Area (km²)  Density (/km²)        Country\n",
            "37  Union City       62715        3.29           19066  United States\n"
          ]
        }
      ]
    },
    {
      "cell_type": "code",
      "source": [
        "CN_rows = df[df[\"Country\"] == \"China\"]\n",
        "print (CN_rows)"
      ],
      "metadata": {
        "colab": {
          "base_uri": "https://localhost:8080/"
        },
        "id": "7dkFKjGzvYAN",
        "outputId": "5ba6d9f6-52aa-48ab-fee8-5f98ca2f7ed0"
      },
      "execution_count": 51,
      "outputs": [
        {
          "output_type": "stream",
          "name": "stdout",
          "text": [
            "     City  Population  Area (km²)  Density (/km²) Country\n",
            "40  Macau      542200        29.2           18568   China\n"
          ]
        }
      ]
    },
    {
      "cell_type": "markdown",
      "source": [
        "Within the dataset, it seems like India has the highest population among the countries. It is worth nothing that the dataset only included 1 city from the United States and China which may cause inaccuracy if we are trying to determine which country has the highest population."
      ],
      "metadata": {
        "id": "jnb5PD7YugYc"
      }
    },
    {
      "cell_type": "code",
      "source": [
        "df['area_to_density_ratio'] = df['Area (km²)'] / df['Density (/km²)']*100"
      ],
      "metadata": {
        "id": "2q8_O_IkyRJl"
      },
      "execution_count": 59,
      "outputs": []
    },
    {
      "cell_type": "code",
      "source": [
        "area_density_plot = sns.scatterplot(x='area_to_density_ratio', y='City', data=df)\n",
        "plt.xlabel('Density/Area Ratio')\n",
        "plt.ylabel('City')\n",
        "plt.title('Density to Area Ratio by City')\n",
        "area_density_plot.figure.set_size_inches(8, 12)"
      ],
      "metadata": {
        "colab": {
          "base_uri": "https://localhost:8080/",
          "height": 1000
        },
        "id": "QF5J8xjTzqve",
        "outputId": "c375d84e-62df-4a43-a826-2d916cf53b0d"
      },
      "execution_count": 68,
      "outputs": [
        {
          "output_type": "display_data",
          "data": {
            "text/plain": [
              "<Figure size 800x1200 with 1 Axes>"
            ],
            "image/png": "[encoded data removed]"
          },
          "metadata": {}
        }
      ]
    },
    {
      "cell_type": "code",
      "source": [
        "top_5_cities_by_areadensity = df.sort_values(by='area_to_density_ratio', ascending=False).nlargest(5, 'area_to_density_ratio')\n",
        "top_5_cities_by_areadensity.loc[:, ['City', 'area_to_density_ratio', 'Area (km²)', 'Density (/km²)' ]]"
      ],
      "metadata": {
        "colab": {
          "base_uri": "https://localhost:8080/",
          "height": 206
        },
        "id": "7BBEEPxN0U_u",
        "outputId": "313a50d6-e4f1-4eae-b078-67f21122cc80"
      },
      "execution_count": 75,
      "outputs": [
        {
          "output_type": "execute_result",
          "data": {
            "text/plain": [
              "       City  area_to_density_ratio  Area (km²)  Density (/km²)\n",
              "13  Karachi               4.695754     1200.00           25555\n",
              "46    Seoul               3.500983      605.25           17288\n",
              "20   Mumbai               2.628940      603.00           22937\n",
              "34    Dhaka               1.851185      360.00           19447\n",
              "30   Bogota               1.836064      379.90           20691"
            ],
            "text/html": [
              "\n",
              "  <div id=\"df-4678f8c9-a489-4a0c-ae31-e1dbb1b6bf91\">\n",
              "    <div class=\"colab-df-container\">\n",
              "      <div>\n",
              "<style scoped>\n",
              "    .dataframe tbody tr th:only-of-type {\n",
              "        vertical-align: middle;\n",
              "    }\n",
              "\n",
              "    .dataframe tbody tr th {\n",
              "        vertical-align: top;\n",
              "    }\n",
              "\n",
              "    .dataframe thead th {\n",
              "        text-align: right;\n",
              "    }\n",
              "</style>\n",
              "<table border=\"1\" class=\"dataframe\">\n",
              "  <thead>\n",
              "    <tr style=\"text-align: right;\">\n",
              "      <th></th>\n",
              "      <th>City</th>\n",
              "      <th>area_to_density_ratio</th>\n",
              "      <th>Area (km²)</th>\n",
              "      <th>Density (/km²)</th>\n",
              "    </tr>\n",
              "  </thead>\n",
              "  <tbody>\n",
              "    <tr>\n",
              "      <th>13</th>\n",
              "      <td>Karachi</td>\n",
              "      <td>4.695754</td>\n",
              "      <td>1200.00</td>\n",
              "      <td>25555</td>\n",
              "    </tr>\n",
              "    <tr>\n",
              "      <th>46</th>\n",
              "      <td>Seoul</td>\n",
              "      <td>3.500983</td>\n",
              "      <td>605.25</td>\n",
              "      <td>17288</td>\n",
              "    </tr>\n",
              "    <tr>\n",
              "      <th>20</th>\n",
              "      <td>Mumbai</td>\n",
              "      <td>2.628940</td>\n",
              "      <td>603.00</td>\n",
              "      <td>22937</td>\n",
              "    </tr>\n",
              "    <tr>\n",
              "      <th>34</th>\n",
              "      <td>Dhaka</td>\n",
              "      <td>1.851185</td>\n",
              "      <td>360.00</td>\n",
              "      <td>19447</td>\n",
              "    </tr>\n",
              "    <tr>\n",
              "      <th>30</th>\n",
              "      <td>Bogota</td>\n",
              "      <td>1.836064</td>\n",
              "      <td>379.90</td>\n",
              "      <td>20691</td>\n",
              "    </tr>\n",
              "  </tbody>\n",
              "</table>\n",
              "</div>\n",
              "      <button class=\"colab-df-convert\" onclick=\"convertToInteractive('df-4678f8c9-a489-4a0c-ae31-e1dbb1b6bf91')\"\n",
              "              title=\"Convert this dataframe to an interactive table.\"\n",
              "              style=\"display:none;\">\n",
              "        \n",
              "  <svg xmlns=\"http://www.w3.org/2000/svg\" height=\"24px\"viewBox=\"0 0 24 24\"\n",
              "       width=\"24px\">\n",
              "    <path d=\"M0 0h24v24H0V0z\" fill=\"none\"/>\n",
              "    <path d=\"M18.56 5.44l.94 2.06.94-2.06 2.06-.94-2.06-.94-.94-2.06-.94 2.06-2.06.94zm-11 1L8.5 8.5l.94-2.06 2.06-.94-2.06-.94L8.5 2.5l-.94 2.06-2.06.94zm10 10l.94 2.06.94-2.06 2.06-.94-2.06-.94-.94-2.06-.94 2.06-2.06.94z\"/><path d=\"M17.41 7.96l-1.37-1.37c-.4-.4-.92-.59-1.43-.59-.52 0-1.04.2-1.43.59L10.3 9.45l-7.72 7.72c-.78.78-.78 2.05 0 2.83L4 21.41c.39.39.9.59 1.41.59.51 0 1.02-.2 1.41-.59l7.78-7.78 2.81-2.81c.8-.78.8-2.07 0-2.86zM5.41 20L4 18.59l7.72-7.72 1.47 1.35L5.41 20z\"/>\n",
              "  </svg>\n",
              "      </button>\n",
              "      \n",
              "  <style>\n",
              "    .colab-df-container {\n",
              "      display:flex;\n",
              "      flex-wrap:wrap;\n",
              "      gap: 12px;\n",
              "    }\n",
              "\n",
              "    .colab-df-convert {\n",
              "      background-color: #E8F0FE;\n",
              "      border: none;\n",
              "      border-radius: 50%;\n",
              "      cursor: pointer;\n",
              "      display: none;\n",
              "      fill: #1967D2;\n",
              "      height: 32px;\n",
              "      padding: 0 0 0 0;\n",
              "      width: 32px;\n",
              "    }\n",
              "\n",
              "    .colab-df-convert:hover {\n",
              "      background-color: #E2EBFA;\n",
              "      box-shadow: 0px 1px 2px rgba(60, 64, 67, 0.3), 0px 1px 3px 1px rgba(60, 64, 67, 0.15);\n",
              "      fill: #174EA6;\n",
              "    }\n",
              "\n",
              "    [theme=dark] .colab-df-convert {\n",
              "      background-color: #3B4455;\n",
              "      fill: #D2E3FC;\n",
              "    }\n",
              "\n",
              "    [theme=dark] .colab-df-convert:hover {\n",
              "      background-color: #434B5C;\n",
              "      box-shadow: 0px 1px 3px 1px rgba(0, 0, 0, 0.15);\n",
              "      filter: drop-shadow(0px 1px 2px rgba(0, 0, 0, 0.3));\n",
              "      fill: #FFFFFF;\n",
              "    }\n",
              "  </style>\n",
              "\n",
              "      <script>\n",
              "        const buttonEl =\n",
              "          document.querySelector('#df-4678f8c9-a489-4a0c-ae31-e1dbb1b6bf91 button.colab-df-convert');\n",
              "        buttonEl.style.display =\n",
              "          google.colab.kernel.accessAllowed ? 'block' : 'none';\n",
              "\n",
              "        async function convertToInteractive(key) {\n",
              "          const element = document.querySelector('#df-4678f8c9-a489-4a0c-ae31-e1dbb1b6bf91');\n",
              "          const dataTable =\n",
              "            await google.colab.kernel.invokeFunction('convertToInteractive',\n",
              "                                                     [key], {});\n",
              "          if (!dataTable) return;\n",
              "\n",
              "          const docLinkHtml = 'Like what you see? Visit the ' +\n",
              "            '<a target=\"_blank\" href=https://colab.research.google.com/notebooks/data_table.ipynb>data table notebook</a>'\n",
              "            + ' to learn more about interactive tables.';\n",
              "          element.innerHTML = '';\n",
              "          dataTable['output_type'] = 'display_data';\n",
              "          await google.colab.output.renderOutput(dataTable, element);\n",
              "          const docLink = document.createElement('div');\n",
              "          docLink.innerHTML = docLinkHtml;\n",
              "          element.appendChild(docLink);\n",
              "        }\n",
              "      </script>\n",
              "    </div>\n",
              "  </div>\n",
              "  "
            ]
          },
          "metadata": {},
          "execution_count": 75
        }
      ]
    },
    {
      "cell_type": "markdown",
      "source": [
        "Area to Density ratio represents how many km² of land area per person living in each city. "
      ],
      "metadata": {
        "id": "y0CPK16O1FDG"
      }
    },
    {
      "cell_type": "markdown",
      "source": [
        "##Questions\n",
        "- What are the top 5 most populous cities within the dataset?\n",
        "- Which country has the highest population?\n",
        "- Which cities has the highest density to area ratio?"
      ],
      "metadata": {
        "id": "dYlvci5Y_kEn"
      }
    },
    {
      "cell_type": "markdown",
      "source": [
        "##Conclusions\n",
        "- There is a significant lack of data from certain countries such as United States, Japan and China. Further data is required as incomplete data can lead inaccuracy and biases.\n",
        "\n",
        "\n",
        "- The 5 most populated Cities are Karachi, Mumbai, Seoul, Bogota and Dhaka within the dataset. This corresponds with the 5 most populous countries within the datset as well. We can hypothesize that only data from these 5 countries are complete.\n",
        "\n",
        "\n",
        "- It is worth noting that while Mumbai has a higher density than Seoul and Seoul has a higher city wise area, Seoul has a higher area to density ratio than Mumbai suggesting that Seoul has more km² of land area per person living. This could have implications, such as differences in living conditions and infrastructure. More investigation may be required!"
      ],
      "metadata": {
        "id": "BJimgKi5_k_Q"
      }
    }
  ]
}